{
 "cells": [
  {
   "cell_type": "code",
   "execution_count": 1,
   "id": "983cf859-f97a-434e-809c-e3a63cbb2f37",
   "metadata": {},
   "outputs": [],
   "source": [
    "# Prerequisites\n",
    "from multiprocessing import Pool\n",
    "import pandas as pd\n",
    "import pickle\n",
    "import threading\n",
    "from Levenshtein import distance as lev\n",
    "import itertools\n",
    "from sklearn.cluster import DBSCAN\n",
    "import json\n",
    "import sys\n",
    "import dateutil\n",
    "import pkg_resources\n",
    "import numpy as np\n",
    "from dateutil.relativedelta import relativedelta\n",
    "from datetime import datetime\n",
    "try:\n",
    "    from urllib.request import urlopen, Request\n",
    "except ImportError:\n",
    "    from urllib2 import urlopen, Request\n",
    "import argparse\n",
    "from tqdm import tqdm\n",
    "\n",
    "from functools import lru_cache, partial\n",
    "lru_cache = lru_cache(maxsize=None)\n",
    "import tmp"
   ]
  },
  {
   "cell_type": "markdown",
   "id": "599cc1ff-4133-4a71-aa08-193f2d127825",
   "metadata": {},
   "source": [
    "## Text Process and Feature Production"
   ]
  },
  {
   "cell_type": "code",
   "execution_count": 2,
   "id": "3ff24015-7c83-4fbb-9a58-eb21a18adc37",
   "metadata": {},
   "outputs": [],
   "source": [
    "def tokenizer(text):\n",
    "    \"\"\"\n",
    "    Separate the words in a given string\n",
    "    \"\"\"\n",
    "    return text.split(' ')"
   ]
  },
  {
   "cell_type": "code",
   "execution_count": 3,
   "id": "4b389dfb-eef8-4aa9-8895-988414df2b17",
   "metadata": {},
   "outputs": [],
   "source": [
    "#3\n",
    "@lru_cache\n",
    "def jaccard(x, y):\n",
    "    \"\"\"\n",
    "    To tokenize text and compute jaccard disatnce\n",
    "    \"\"\"\n",
    "    x_w = set(tokenizer(x))\n",
    "    y_w = set(tokenizer(y))\n",
    "    return (\n",
    "        len(x_w.symmetric_difference(y_w)) / (len(x_w.union(y_w)) if len(x_w.union(y_w)) > 0 else 1)\n",
    "    )"
   ]
  },
  {
   "cell_type": "code",
   "execution_count": 4,
   "id": "7a583ba6-f17b-4bef-bbc6-3903f9f5b20f",
   "metadata": {},
   "outputs": [],
   "source": [
    "#4\n",
    "@lru_cache\n",
    "def levenshtein(x, y, n=None):\n",
    "    \"\"\"\n",
    "    Obtain levenshtein distance for the given text\n",
    "    \"\"\"\n",
    "    if n is not None:\n",
    "        x = x[:n]\n",
    "        y = y[:n]\n",
    "    return lev(x, y) / (max(len(x), len(y)) if max(len(x), len(y)) > 0 else 1)"
   ]
  },
  {
   "cell_type": "code",
   "execution_count": 5,
   "id": "ca05ff85-edb0-4cb5-840b-298b65416f2a",
   "metadata": {},
   "outputs": [],
   "source": [
    "#5\n",
    "def average_jac_lev(x, y):\n",
    "    \"\"\"\n",
    "    Computes average of jacard and levenshtein for 2 given strings\n",
    "    \"\"\"\n",
    "#     print('entered jaccard')\n",
    "    return (jaccard(x, y) + levenshtein(x, y)) / 2"
   ]
  },
  {
   "cell_type": "code",
   "execution_count": 6,
   "id": "385f46c6-0b94-4a39-8943-d63d2b9d0984",
   "metadata": {},
   "outputs": [],
   "source": [
    "#6\n",
    "def compute_distance(items, distance):\n",
    "    \"\"\"\n",
    "    Computes a distance matrix for given items, using given distance function\n",
    "    \"\"\"\n",
    "    m = np.zeros((len(items), len(items)))\n",
    "    enumitems = list(enumerate(items))\n",
    "    for xe, ye in itertools.combinations(enumitems, 2):\n",
    "        i, x = xe\n",
    "        j, y = ye\n",
    "        d = distance(x, y)\n",
    "        m[i, j] = m[j, i] = d\n",
    "    return m"
   ]
  },
  {
   "cell_type": "code",
   "execution_count": 7,
   "id": "fae65d69-28c1-47c4-ae30-cd92ff35de61",
   "metadata": {},
   "outputs": [],
   "source": [
    "#7\n",
    "def gini(array):\n",
    "    \"\"\"\n",
    "    Calculate the Gini coefficient of a numpy array\n",
    "    \"\"\"\n",
    "    if len(array) == 0:\n",
    "        return 0\n",
    "    array = array.flatten()\n",
    "    if np.amin(array) < 0:\n",
    "        array -= np.amin(array)\n",
    "    array += 0.0000001\n",
    "    array = np.sort(array)\n",
    "    index = np.arange(1, array.shape[0] + 1)\n",
    "    n = array.shape[0]\n",
    "    return ((np.sum((2 * index - n - 1) * array)) / (n * np.sum(array)))"
   ]
  },
  {
   "cell_type": "markdown",
   "id": "ef02c52e-7e7b-44fb-97e9-d8d61abd7935",
   "metadata": {},
   "source": [
    "## "
   ]
  },
  {
   "cell_type": "code",
   "execution_count": 8,
   "id": "a26d2f8e-1a77-4ab9-8098-b105f056b00e",
   "metadata": {},
   "outputs": [],
   "source": [
    "#8\n",
    "def task(data):\n",
    "    \"\"\"\n",
    "    Threading and Progress\n",
    "    \"\"\"\n",
    "#     print('entered task')\n",
    "    author, group, max_comments, params = data\n",
    "    group = group[:max_comments]\n",
    "    clustering = DBSCAN(eps=params['eps'], min_samples=1, metric='precomputed')\n",
    "    items = compute_distance(getattr(group, params['source']), params['func'])\n",
    "    clusters = clustering.fit_predict(items)\n",
    "    empty_comments = np.count_nonzero(group['empty'])\n",
    "\n",
    "    return (\n",
    "        author,\n",
    "        len(group),\n",
    "        empty_comments,\n",
    "        len(np.unique(clusters)),\n",
    "        gini(items[np.tril(items).astype(bool)]),\n",
    "    )"
   ]
  },
  {
   "cell_type": "code",
   "execution_count": 9,
   "id": "99bf9407-a7bf-4e78-9a90-598b7bf6961e",
   "metadata": {},
   "outputs": [],
   "source": [
    "#9\n",
    "def run_function_in_thread(pbar, function, max_value, args=[], kwargs={}):\n",
    "#     print('entered function in thread')\n",
    "    ret = [None]\n",
    "\n",
    "    def myrunner(function, ret, *args, **kwargs):\n",
    "        ret[0] = function(*args, **kwargs)\n",
    "\n",
    "    thread = threading.Thread(target=myrunner, args=(function, ret) + tuple(args), kwargs=kwargs)\n",
    "    thread.start()\n",
    "    while thread.is_alive():\n",
    "        thread.join(timeout=.1)\n",
    "        if(pbar.n < max_value - .3):\n",
    "            pbar.update(.1)\n",
    "    pbar.n = max_value\n",
    "    return ret[0]"
   ]
  },
  {
   "cell_type": "code",
   "execution_count": 10,
   "id": "5d80defa-7cbc-43c6-92d1-644d9bbc97fc",
   "metadata": {},
   "outputs": [],
   "source": [
    "#10\n",
    "def get_model():\n",
    "#     print('entered get_model')\n",
    "    path = 'model.json'\n",
    "    filename = pkg_resources.resource_filename(__name__, path)\n",
    "    with open(filename, 'rb') as file:\n",
    "        model = pickle.load(file)\n",
    "    return model"
   ]
  },
  {
   "cell_type": "code",
   "execution_count": 11,
   "id": "1b9fecc9-d3b1-43de-825f-f3c6352b5e92",
   "metadata": {},
   "outputs": [],
   "source": [
    "#11\n",
    "# get the df collected as comments\n",
    "comments = pd.read_csv(r'./../Data_frames/diem_diem.csv', index_col = 0)"
   ]
  },
  {
   "cell_type": "code",
   "execution_count": 12,
   "id": "24337bb0-47b1-4797-bcd2-b7847bb9d78f",
   "metadata": {},
   "outputs": [],
   "source": [
    "#12\n",
    "min_comments = 10\n",
    "max_comments = 100\n",
    "exclude = [] # exclude these accounts\n",
    "accounts = ['JoshLind', 'stale[bot]', 'libra-action', 'dimroc'] # consider only these accounts"
   ]
  },
  {
   "cell_type": "code",
   "execution_count": 13,
   "id": "cd8ac22b-684d-4680-aebd-6f2291994024",
   "metadata": {},
   "outputs": [],
   "source": [
    "#13\n",
    "'''\n",
    "\n",
    "To get the top 100 comments for each author in the repository\n",
    "\n",
    "'''\n",
    "\n",
    "df = (\n",
    "    comments\n",
    "    [comments['author'].isin(\n",
    "    comments\n",
    "    .groupby('author', as_index = False)\n",
    "    .count()[lambda x: x['body'] >= min_comments]['author'].values\n",
    "    )]\n",
    "    .sort_values('created_at', ascending = False)\n",
    "    .groupby('author').head(max_comments)\n",
    ")"
   ]
  },
  {
   "cell_type": "code",
   "execution_count": 14,
   "id": "8b0bac26-f212-43c4-9944-e109559e97bd",
   "metadata": {},
   "outputs": [],
   "source": [
    "#14\n",
    "'''\n",
    "\n",
    "To either exclude or include few accounts and to check if there is at least one account to execute the machine learning model\n",
    "\n",
    "'''\n",
    "\n",
    "if len(exclude) > 0:\n",
    "    df = df[~df['author'].isin(exclude)]\n",
    "\n",
    "if len(accounts) > 0:\n",
    "    df = df[lambda x: x['author'].isin(accounts)]\n",
    "\n",
    "if(len(df) < 1):\n",
    "    print(\"At least 10 comments are required for each account to predict the type of the account\")"
   ]
  },
  {
   "cell_type": "code",
   "execution_count": 15,
   "id": "59536cce-2e5a-4751-a83d-32c29e312ac6",
   "metadata": {},
   "outputs": [],
   "source": [
    "#15\n",
    "'''\n",
    "\n",
    "To calculate the jaccard and levenshtein for any pair of comments made by the author \n",
    "\n",
    "'''\n",
    "inputs = []\n",
    "for author, group in df.groupby('author'):\n",
    "    inputs.append(\n",
    "        (\n",
    "            author,\n",
    "            group.copy(),\n",
    "            max_comments,\n",
    "            {'func': average_jac_lev, 'source': 'body', 'eps': 0.5}\n",
    "        )\n",
    "    )"
   ]
  },
  {
   "cell_type": "code",
   "execution_count": 16,
   "id": "79b66ae3-3e48-427b-b8ac-5b73642977ed",
   "metadata": {},
   "outputs": [
    {
     "name": "stderr",
     "output_type": "stream",
     "text": [
      "100%|██████████████████████████████████████████████████████████████████████████████████████████████████████████████████████████████████████████| 4/4 [00:05<00:00,  1.43s/it]\n"
     ]
    },
    {
     "data": {
      "text/html": [
       "<div>\n",
       "<style scoped>\n",
       "    .dataframe tbody tr th:only-of-type {\n",
       "        vertical-align: middle;\n",
       "    }\n",
       "\n",
       "    .dataframe tbody tr th {\n",
       "        vertical-align: top;\n",
       "    }\n",
       "\n",
       "    .dataframe thead th {\n",
       "        text-align: right;\n",
       "    }\n",
       "</style>\n",
       "<table border=\"1\" class=\"dataframe\">\n",
       "  <thead>\n",
       "    <tr style=\"text-align: right;\">\n",
       "      <th></th>\n",
       "      <th>account</th>\n",
       "      <th>comments</th>\n",
       "      <th>empty comments</th>\n",
       "      <th>patterns</th>\n",
       "      <th>dispersion</th>\n",
       "    </tr>\n",
       "  </thead>\n",
       "  <tbody>\n",
       "    <tr>\n",
       "      <th>0</th>\n",
       "      <td>stale[bot]</td>\n",
       "      <td>39</td>\n",
       "      <td>0</td>\n",
       "      <td>1</td>\n",
       "      <td>0.000000</td>\n",
       "    </tr>\n",
       "    <tr>\n",
       "      <th>1</th>\n",
       "      <td>dimroc</td>\n",
       "      <td>17</td>\n",
       "      <td>0</td>\n",
       "      <td>7</td>\n",
       "      <td>0.034170</td>\n",
       "    </tr>\n",
       "    <tr>\n",
       "      <th>2</th>\n",
       "      <td>JoshLind</td>\n",
       "      <td>43</td>\n",
       "      <td>0</td>\n",
       "      <td>28</td>\n",
       "      <td>0.044171</td>\n",
       "    </tr>\n",
       "    <tr>\n",
       "      <th>3</th>\n",
       "      <td>libra-action</td>\n",
       "      <td>58</td>\n",
       "      <td>0</td>\n",
       "      <td>18</td>\n",
       "      <td>0.093688</td>\n",
       "    </tr>\n",
       "  </tbody>\n",
       "</table>\n",
       "</div>"
      ],
      "text/plain": [
       "        account  comments  empty comments  patterns  dispersion\n",
       "0    stale[bot]        39               0         1    0.000000\n",
       "1        dimroc        17               0         7    0.034170\n",
       "2      JoshLind        43               0        28    0.044171\n",
       "3  libra-action        58               0        18    0.093688"
      ]
     },
     "metadata": {},
     "output_type": "display_data"
    }
   ],
   "source": [
    "#16\n",
    "def task(data):\n",
    "    \"\"\"\n",
    "    Threading and Progress\n",
    "    \"\"\"\n",
    "#     print('entered task')\n",
    "    author, group, max_comments, params = data\n",
    "    group = group[:max_comments]\n",
    "    clustering = DBSCAN(eps=params['eps'], min_samples=1, metric='precomputed')\n",
    "    items = compute_distance(getattr(group, params['source']), params['func'])\n",
    "    clusters = clustering.fit_predict(items)\n",
    "    empty_comments = np.count_nonzero(group['empty'])\n",
    "\n",
    "    return (\n",
    "        author,\n",
    "        len(group),\n",
    "        empty_comments,\n",
    "        len(np.unique(clusters)),\n",
    "        gini(items[np.tril(items).astype(bool)]),\n",
    "    )\n",
    "\n",
    "inputs = []\n",
    "for author, group in df.groupby('author'):\n",
    "    inputs.append(\n",
    "        (\n",
    "            author,\n",
    "            group.copy(),\n",
    "            max_comments,\n",
    "            {'func': tmp.average_jac_lev, 'source': 'body', 'eps': 0.5}\n",
    "        )\n",
    "    )\n",
    "\n",
    "data = []\n",
    "with Pool() as pool:\n",
    "    for result in tqdm(\n",
    "        pool.imap_unordered(tmp.task, inputs),\n",
    "        total=len(inputs)):\n",
    "        \n",
    "        data.append(result)\n",
    "\n",
    "result = pd.DataFrame(\n",
    "        data=data, columns=['account', 'comments', 'empty comments', 'patterns', 'dispersion'])\n",
    "display(result)"
   ]
  },
  {
   "cell_type": "code",
   "execution_count": 18,
   "id": "c0f22a89-ec0d-41d5-bf8d-53098aea1a49",
   "metadata": {},
   "outputs": [
    {
     "name": "stderr",
     "output_type": "stream",
     "text": [
      "5it [00:00, 65948.18it/s]                                                       \n",
      "5it [00:00, 71331.70it/s]                                                       \n",
      "5it [00:00, 58092.85it/s]                                                       \n",
      "5it [00:00, 64927.31it/s]                                                       \n"
     ]
    }
   ],
   "source": [
    "# data = []\n",
    "# for item in inputs:\n",
    "#     for result in tqdm(\n",
    "#         task(item),\n",
    "#         total=len(inputs)):\n",
    "\n",
    "#         data.append(result)"
   ]
  },
  {
   "cell_type": "code",
   "execution_count": 17,
   "id": "236a7285-d5b1-4d26-9006-338bc7e5ff3b",
   "metadata": {},
   "outputs": [
    {
     "name": "stderr",
     "output_type": "stream",
     "text": [
      "Loading model: :   0%|                                                                                                                                                       /Library/Frameworks/Python.framework/Versions/3.8/lib/python3.8/site-packages/sklearn/base.py:324: UserWarning: Trying to unpickle estimator DecisionTreeClassifier from version 0.22 when using version 1.0.1. This might lead to breaking code or invalid results. Use at your own risk. For more info please refer to:\n",
      "https://scikit-learn.org/stable/modules/model_persistence.html#security-maintainability-limitations\n",
      "  warnings.warn(\n",
      "/Library/Frameworks/Python.framework/Versions/3.8/lib/python3.8/site-packages/sklearn/base.py:324: UserWarning: Trying to unpickle estimator RandomForestClassifier from version 0.22 when using version 1.0.1. This might lead to breaking code or invalid results. Use at your own risk. For more info please refer to:\n",
      "https://scikit-learn.org/stable/modules/model_persistence.html#security-maintainability-limitations\n",
      "  warnings.warn(\n"
     ]
    }
   ],
   "source": [
    "#17\n",
    "prediction_progress = tqdm(\n",
    "        total=25, smoothing=.1, bar_format='{desc}: {percentage:3.0f}%|{bar}', leave=False)\n",
    "tasks = ['Loading model', 'Making prediction', 'Exporting result']\n",
    "prediction_progress.set_description(tasks[0])\n",
    "model = run_function_in_thread(prediction_progress, get_model, 5)"
   ]
  },
  {
   "cell_type": "code",
   "execution_count": 18,
   "id": "bc36ec50-2e3a-43e2-a09c-d6a5688036c8",
   "metadata": {},
   "outputs": [
    {
     "name": "stderr",
     "output_type": "stream",
     "text": [
      "/Library/Frameworks/Python.framework/Versions/3.8/lib/python3.8/site-packages/sklearn/base.py:438: UserWarning: X has feature names, but RandomForestClassifier was fitted without feature names\n",
      "  warnings.warn(\n"
     ]
    }
   ],
   "source": [
    "#18\n",
    "result = (\n",
    "        result\n",
    "        .assign(\n",
    "            prediction=lambda x: np.where(model.predict(\n",
    "                x[['comments', 'empty comments', 'patterns', 'dispersion']]) == 1, 'Bot', 'Human')\n",
    "        )\n",
    "    )\n",
    "del model"
   ]
  },
  {
   "cell_type": "code",
   "execution_count": 19,
   "id": "39d28c01-4b2d-4233-8958-bdebb210fdce",
   "metadata": {},
   "outputs": [
    {
     "name": "stderr",
     "output_type": "stream",
     "text": [
      "                                                                                                                                                                             \r"
     ]
    }
   ],
   "source": [
    "#19\n",
    "result = (\n",
    "            result\n",
    "            .set_index('account')\n",
    "            [['comments', 'empty comments', 'patterns', 'dispersion', 'prediction']]\n",
    "        )\n",
    "prediction_progress.close()"
   ]
  },
  {
   "cell_type": "code",
   "execution_count": 20,
   "id": "e5ead0e7-4c92-4799-996c-b4636d70789d",
   "metadata": {},
   "outputs": [
    {
     "data": {
      "text/html": [
       "<div>\n",
       "<style scoped>\n",
       "    .dataframe tbody tr th:only-of-type {\n",
       "        vertical-align: middle;\n",
       "    }\n",
       "\n",
       "    .dataframe tbody tr th {\n",
       "        vertical-align: top;\n",
       "    }\n",
       "\n",
       "    .dataframe thead th {\n",
       "        text-align: right;\n",
       "    }\n",
       "</style>\n",
       "<table border=\"1\" class=\"dataframe\">\n",
       "  <thead>\n",
       "    <tr style=\"text-align: right;\">\n",
       "      <th></th>\n",
       "      <th>comments</th>\n",
       "      <th>empty comments</th>\n",
       "      <th>patterns</th>\n",
       "      <th>dispersion</th>\n",
       "      <th>prediction</th>\n",
       "    </tr>\n",
       "    <tr>\n",
       "      <th>account</th>\n",
       "      <th></th>\n",
       "      <th></th>\n",
       "      <th></th>\n",
       "      <th></th>\n",
       "      <th></th>\n",
       "    </tr>\n",
       "  </thead>\n",
       "  <tbody>\n",
       "    <tr>\n",
       "      <th>stale[bot]</th>\n",
       "      <td>39</td>\n",
       "      <td>0</td>\n",
       "      <td>1</td>\n",
       "      <td>0.000000</td>\n",
       "      <td>Bot</td>\n",
       "    </tr>\n",
       "    <tr>\n",
       "      <th>dimroc</th>\n",
       "      <td>17</td>\n",
       "      <td>0</td>\n",
       "      <td>7</td>\n",
       "      <td>0.034170</td>\n",
       "      <td>Human</td>\n",
       "    </tr>\n",
       "    <tr>\n",
       "      <th>JoshLind</th>\n",
       "      <td>43</td>\n",
       "      <td>0</td>\n",
       "      <td>28</td>\n",
       "      <td>0.044171</td>\n",
       "      <td>Human</td>\n",
       "    </tr>\n",
       "    <tr>\n",
       "      <th>libra-action</th>\n",
       "      <td>58</td>\n",
       "      <td>0</td>\n",
       "      <td>18</td>\n",
       "      <td>0.093688</td>\n",
       "      <td>Bot</td>\n",
       "    </tr>\n",
       "  </tbody>\n",
       "</table>\n",
       "</div>"
      ],
      "text/plain": [
       "              comments  empty comments  patterns  dispersion prediction\n",
       "account                                                                \n",
       "stale[bot]          39               0         1    0.000000        Bot\n",
       "dimroc              17               0         7    0.034170      Human\n",
       "JoshLind            43               0        28    0.044171      Human\n",
       "libra-action        58               0        18    0.093688        Bot"
      ]
     },
     "execution_count": 20,
     "metadata": {},
     "output_type": "execute_result"
    }
   ],
   "source": [
    "result"
   ]
  },
  {
   "cell_type": "code",
   "execution_count": null,
   "id": "d2bee0e8-b787-4556-ae81-ddfb08f9d673",
   "metadata": {},
   "outputs": [],
   "source": []
  }
 ],
 "metadata": {
  "kernelspec": {
   "display_name": "Python 3 (ipykernel)",
   "language": "python",
   "name": "python3"
  },
  "language_info": {
   "codemirror_mode": {
    "name": "ipython",
    "version": 3
   },
   "file_extension": ".py",
   "mimetype": "text/x-python",
   "name": "python",
   "nbconvert_exporter": "python",
   "pygments_lexer": "ipython3",
   "version": "3.8.10"
  }
 },
 "nbformat": 4,
 "nbformat_minor": 5
}
